{
 "cells": [
  {
   "cell_type": "code",
   "execution_count": 15,
   "metadata": {},
   "outputs": [],
   "source": [
    "# import libraries\n",
    "import pandas as pd\n",
    "from sklearn.feature_extraction.text import CountVectorizer\n",
    "import re\n",
    "from collections import Counter\n",
    "import nltk\n",
    "from nltk.corpus import stopwords "
   ]
  },
  {
   "cell_type": "code",
   "execution_count": 2,
   "metadata": {},
   "outputs": [],
   "source": [
    "# veri setinin iceriye aktarilmasi\n",
    "df = pd.read_csv(\"IMDB Dataset.csv\")\n",
    "\n",
    "# metin verilerini alalim\n",
    "documents = df[\"review\"]\n",
    "labels = df[\"sentiment\"] # positive veya negative"
   ]
  },
  {
   "cell_type": "code",
   "execution_count": 16,
   "metadata": {},
   "outputs": [],
   "source": [
    "def clean_text(text):\n",
    "    \n",
    "    # buyuk kucuk harf cevrimi\n",
    "    text = text.lower()\n",
    "    \n",
    "    # rakamlari temizleme\n",
    "    text = re.sub(r\"\\d+\", \"\", text)\n",
    "    \n",
    "    # ozel karakterlerin kaldirilmasi\n",
    "    text = re.sub(r\"[^\\w\\s]\", \"\", text)\n",
    "    \n",
    "    # kisa kelimelerin temizlenmesi\n",
    "    text = \" \".join([word for word in text.split() if len(word) > 2])\n",
    "\n",
    "    # stop words'lerin temizlenmesi\n",
    "    stop_words = set(stopwords.words('english'))\n",
    "    text = \" \".join([word for word in text.split() if word.lower() not in stop_words])\n",
    "    \n",
    "\n",
    "    return text # temizlenmis text'i return et\n",
    "\n",
    "# metinleri temizle\n",
    "cleaned_doc = [clean_text(row) for row in documents]"
   ]
  },
  {
   "cell_type": "code",
   "execution_count": 17,
   "metadata": {},
   "outputs": [],
   "source": [
    "# vectorizer tanimla\n",
    "vectorizer = CountVectorizer()"
   ]
  },
  {
   "cell_type": "code",
   "execution_count": 18,
   "metadata": {},
   "outputs": [],
   "source": [
    "# metin -> sayisal hale getir\n",
    "X = vectorizer.fit_transform(cleaned_doc[:75])"
   ]
  },
  {
   "cell_type": "code",
   "execution_count": 19,
   "metadata": {},
   "outputs": [],
   "source": [
    "# kelime kumesi goster\n",
    "feature_names = vectorizer.get_feature_names_out()"
   ]
  },
  {
   "cell_type": "code",
   "execution_count": 20,
   "metadata": {},
   "outputs": [
    {
     "name": "stdout",
     "output_type": "stream",
     "text": [
      "Vektor temsili: [[0 0 0 ... 0 0 0]\n",
      " [0 0 0 ... 0 0 0]\n",
      " [0 0 0 ... 0 0 0]\n",
      " ...\n",
      " [0 0 0 ... 0 0 0]\n",
      " [0 0 0 ... 0 0 0]\n",
      " [0 0 0 ... 0 0 0]]\n"
     ]
    }
   ],
   "source": [
    "vektor_temsili2 = X.toarray()\n",
    "print(f\"Vektor temsili: {vektor_temsili2}\")"
   ]
  },
  {
   "cell_type": "code",
   "execution_count": 21,
   "metadata": {},
   "outputs": [],
   "source": [
    "df_bow = pd.DataFrame(vektor_temsili2, columns = feature_names)"
   ]
  },
  {
   "cell_type": "code",
   "execution_count": 22,
   "metadata": {},
   "outputs": [],
   "source": [
    "# kelime frekanslarini goster\n",
    "word_counts = X.sum(axis=0).A1\n",
    "word_freq = dict(zip(feature_names, word_counts))"
   ]
  },
  {
   "cell_type": "code",
   "execution_count": 23,
   "metadata": {},
   "outputs": [
    {
     "name": "stdout",
     "output_type": "stream",
     "text": [
      "En cok kullanilan kelimeler: [('movie', 123), ('film', 98), ('one', 72), ('like', 59), ('good', 38)]\n"
     ]
    }
   ],
   "source": [
    "most_common_words = Counter(word_freq).most_common(5)\n",
    "print(f\"En cok kullanilan kelimeler: {most_common_words}\")\n"
   ]
  },
  {
   "cell_type": "code",
   "execution_count": null,
   "metadata": {},
   "outputs": [],
   "source": []
  }
 ],
 "metadata": {
  "kernelspec": {
   "display_name": "myenv",
   "language": "python",
   "name": "python3"
  },
  "language_info": {
   "codemirror_mode": {
    "name": "ipython",
    "version": 3
   },
   "file_extension": ".py",
   "mimetype": "text/x-python",
   "name": "python",
   "nbconvert_exporter": "python",
   "pygments_lexer": "ipython3",
   "version": "3.11.10"
  }
 },
 "nbformat": 4,
 "nbformat_minor": 2
}
